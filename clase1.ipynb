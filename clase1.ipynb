{
 "cells": [
  {
   "cell_type": "code",
   "execution_count": 167,
   "metadata": {},
   "outputs": [
    {
     "name": "stdout",
     "output_type": "stream",
     "text": [
      "adios\n"
     ]
    }
   ],
   "source": [
    "print(\"adios\")"
   ]
  },
  {
   "cell_type": "code",
   "execution_count": 168,
   "metadata": {},
   "outputs": [],
   "source": [
    "###esta es la clase\n",
    "\n",
    "\n"
   ]
  },
  {
   "cell_type": "markdown",
   "metadata": {},
   "source": [
    "### esta es la clase\n",
    "* variable\n",
    "   * operaciones matematicas \n",
    "   * operadores de computor \n",
    "   * operadores condicionales \n",
    "    - simples\n",
    "      - anidados\n",
    "      -encadenados\n",
    "   * estructuras de datos\n",
    "     - listas\n",
    "     - cadenas de caracteres \n",
    "     - diccionarios\n",
    "     - tuplas\n",
    "    * estructuras de control\n",
    "      - funciones\n",
    "      - ciclos infinitos\n",
    "      - ciclos internos\n",
    "\n",
    "\n",
    "\n",
    "         "
   ]
  },
  {
   "cell_type": "code",
   "execution_count": 169,
   "metadata": {},
   "outputs": [],
   "source": [
    "# variable de python\n",
    "name = \"josefina\"\n",
    "\n",
    " "
   ]
  },
  {
   "cell_type": "code",
   "execution_count": 170,
   "metadata": {},
   "outputs": [
    {
     "data": {
      "text/plain": [
       "'josefina'"
      ]
     },
     "execution_count": 170,
     "metadata": {},
     "output_type": "execute_result"
    }
   ],
   "source": [
    "name\n"
   ]
  },
  {
   "cell_type": "code",
   "execution_count": 171,
   "metadata": {},
   "outputs": [],
   "source": [
    "# cuando la variable tiene de unapalabra\n",
    "last_name = \"Primero\""
   ]
  },
  {
   "cell_type": "code",
   "execution_count": 172,
   "metadata": {},
   "outputs": [],
   "source": [
    "# mala practica\n",
    "lastname=\"Primero\"\n"
   ]
  },
  {
   "cell_type": "code",
   "execution_count": 173,
   "metadata": {},
   "outputs": [
    {
     "ename": "SyntaxError",
     "evalue": "cannot assign to expression here. Maybe you meant '==' instead of '='? (2388001196.py, line 3)",
     "output_type": "error",
     "traceback": [
      "\u001b[1;36m  Cell \u001b[1;32mIn[173], line 3\u001b[1;36m\u001b[0m\n\u001b[1;33m    last-name = \"primero\"\u001b[0m\n\u001b[1;37m    ^\u001b[0m\n\u001b[1;31mSyntaxError\u001b[0m\u001b[1;31m:\u001b[0m cannot assign to expression here. Maybe you meant '==' instead of '='?\n"
     ]
    }
   ],
   "source": [
    "last.name = \"primero\"\n",
    "#last.name = \"primero\"\n",
    "last-name = \"primero\"\n",
    "\n",
    "\n",
    "\n"
   ]
  },
  {
   "cell_type": "code",
   "execution_count": null,
   "metadata": {},
   "outputs": [],
   "source": [
    "lastname\n"
   ]
  },
  {
   "cell_type": "code",
   "execution_count": null,
   "metadata": {},
   "outputs": [
    {
     "name": "stdout",
     "output_type": "stream",
     "text": [
      "22\n",
      "2\n",
      "el resultado de la suma:22 \n",
      "el resultado de la resta:2 \n",
      "el resultado de la division :1.2 \n"
     ]
    }
   ],
   "source": [
    "# operadores matematicos\n",
    "num_1 = 12\n",
    "num_2 = 10\n",
    "# resultdo suma\n",
    "result = num_1 + num_2\n",
    "# resta\n",
    "\n",
    "result_2 = num_1 - num_2 \n",
    "\n",
    "# division\n",
    "result_3 = num_1 / num_2\n",
    "\n",
    "# resultados\n",
    "print (result)\n",
    "print (result_2)\n",
    "\n",
    "print (f\"el resultado de la suma:{result} \")\n",
    "print (f\"el resultado de la resta:{result_2} \" )\n",
    "print (f\"el resultado de la division :{result_3} \" )\n"
   ]
  },
  {
   "cell_type": "code",
   "execution_count": null,
   "metadata": {},
   "outputs": [
    {
     "name": "stdout",
     "output_type": "stream",
     "text": [
      "hoal josefino\n"
     ]
    }
   ],
   "source": [
    "# saludos\n",
    "name = \"josefino\"\n",
    "print (\"hoal josefino\")\n"
   ]
  },
  {
   "cell_type": "code",
   "execution_count": null,
   "metadata": {},
   "outputs": [],
   "source": [
    "name = input  (ingrese numero para determinar fibonacci:)\n"
   ]
  },
  {
   "cell_type": "code",
   "execution_count": null,
   "metadata": {},
   "outputs": [
    {
     "name": "stdout",
     "output_type": "stream",
     "text": [
      "[1, 1, 2, 3, 5, 8, 13, 21, 34, 55]\n"
     ]
    }
   ],
   "source": [
    "def fibonacci(n):\n",
    "  \"\"\"\n",
    "  Calcula la serie Fibonacci hasta el n-ésimo término.\n",
    "\n",
    "  Args:\n",
    "    n (int): El número de términos que se desea calcular.\n",
    "\n",
    "  Returns:\n",
    "    list: La serie Fibonacci hasta el n-ésimo término.\n",
    "  \"\"\"\n",
    "  if n == 1 or n == 2:\n",
    "    return 1\n",
    "  else:\n",
    "    return fibonacci(n - 1) + fibonacci(n - 2)\n",
    "\n",
    "# Ejemplo de uso\n",
    "numero_terminos = 10\n",
    "serie_fibonacci = []\n",
    "for i in range(1, numero_terminos + 1):\n",
    "  serie_fibonacci.append(fibonacci(i))\n",
    "\n",
    "print(serie_fibonacci)"
   ]
  },
  {
   "cell_type": "code",
   "execution_count": null,
   "metadata": {},
   "outputs": [
    {
     "name": "stdout",
     "output_type": "stream",
     "text": [
      "treinta\n"
     ]
    }
   ],
   "source": [
    "name = input (\"ingresa tu edad\")\n",
    "print( name)\n"
   ]
  },
  {
   "cell_type": "code",
   "execution_count": null,
   "metadata": {},
   "outputs": [
    {
     "name": "stdout",
     "output_type": "stream",
     "text": [
      "23.0\n",
      "-1.0\n",
      "el resultado de la suma:23.0 \n",
      "el resultado de la resta:-1.0 \n",
      "el resultado de la division :0.9166666666666666 \n"
     ]
    }
   ],
   "source": [
    "# operadores matematicos\n",
    "num_1 = float (input (\"ingrese numero 1:\")) \n",
    "num_2 = float (input (\"ingrese numero 2: \")) \n",
    "# resultdo suma\n",
    "result = num_1 + num_2\n",
    "# resta\n",
    "\n",
    "result_2 = num_1 - num_2 \n",
    "\n",
    "# division\n",
    "result_3 = num_1 / num_2\n",
    "\n",
    "# resultados\n",
    "print (result)\n",
    "print (result_2)\n",
    "\n",
    "print (f\"el resultado de la suma:{result} \")\n",
    "print (f\"el resultado de la resta:{result_2} \" )\n",
    "print (f\"el resultado de la division :{result_3} \" )"
   ]
  },
  {
   "cell_type": "code",
   "execution_count": null,
   "metadata": {},
   "outputs": [],
   "source": []
  },
  {
   "cell_type": "code",
   "execution_count": null,
   "metadata": {},
   "outputs": [
    {
     "data": {
      "text/plain": [
       "True"
      ]
     },
     "execution_count": 125,
     "metadata": {},
     "output_type": "execute_result"
    }
   ],
   "source": [
    "# operadores de comparacion \n",
    "# mayor que >\n",
    "# mayor que <\n",
    "# mayor igual >=\n",
    "# menor igual <=\n",
    "# igual:==\n",
    "# diferente:!=\n",
    "10<=20"
   ]
  },
  {
   "cell_type": "code",
   "execution_count": null,
   "metadata": {},
   "outputs": [],
   "source": [
    "# condicionales\n",
    "name = input(\"ingrese nombre:\")\n",
    "if name == \"josefino\":\n",
    " print(\"otra vez tu\")\n",
    " # if condicion\n",
    "  # hago algo\n",
    "\n"
   ]
  },
  {
   "cell_type": "code",
   "execution_count": null,
   "metadata": {},
   "outputs": [
    {
     "name": "stdout",
     "output_type": "stream",
     "text": [
      "mayor igual a 10\n"
     ]
    }
   ],
   "source": [
    "# codiciones\n",
    "num = int(input(\"ingrese un numero\"))\n",
    "\n",
    "if num >= 10:\n",
    "  print (\"mayor igual a 10\")\n",
    "else:\n",
    "   print(\"es menor de 10\")"
   ]
  },
  {
   "cell_type": "code",
   "execution_count": null,
   "metadata": {},
   "outputs": [],
   "source": [
    "num = float((input(\"ingrese un numero\")))\n",
    "\n",
    "if num >= 10:\n",
    "  print (\"mayor igual a 10\")\n",
    "else:\n",
    "   print(\"es menor de 10\")"
   ]
  },
  {
   "cell_type": "code",
   "execution_count": null,
   "metadata": {},
   "outputs": [
    {
     "name": "stdout",
     "output_type": "stream",
     "text": [
      " es valido\n"
     ]
    }
   ],
   "source": [
    "# codicionales logicos \n",
    "#and or not\n",
    "\n",
    "num = float (input(\"ingrese un numero\"))\n",
    "\n",
    "if (num >= 10) and (num <= 20):\n",
    "  print (\" es valido\")\n",
    "else:\n",
    "   print(\"fuera de rango\")\n"
   ]
  }
 ],
 "metadata": {
  "kernelspec": {
   "display_name": "Python 3",
   "language": "python",
   "name": "python3"
  },
  "language_info": {
   "codemirror_mode": {
    "name": "ipython",
    "version": 3
   },
   "file_extension": ".py",
   "mimetype": "text/x-python",
   "name": "python",
   "nbconvert_exporter": "python",
   "pygments_lexer": "ipython3",
   "version": "3.12.2"
  }
 },
 "nbformat": 4,
 "nbformat_minor": 2
}
